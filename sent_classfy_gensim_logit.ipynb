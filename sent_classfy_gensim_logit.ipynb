{
 "cells": [
  {
   "cell_type": "markdown",
   "metadata": {},
   "source": [
    "# sentiment classification\n",
    "\n",
    "1. train/finetune glove using gensim with target dataset.(https://github.com/roamanalytics/mittens)\n",
    "    * word2vec fine tuning (https://www.kaggle.com/kfujikawa/word2vec-fine-tuning)\n",
    "2. use classifier head over tuned-glove to classify sentiment.\n",
    "\n",
    "* https://nlp.stanford.edu/projects/glove/\n",
    "* https://medium.com/huggingface/universal-word-sentence-embeddings-ce48ddc8fc3a\n",
    "\n",
    "### sentiment analysis papers,blogs\n",
    "* https://monkeylearn.com/sentiment-analysis/\n",
    "* https://blog.paralleldots.com/product/contextual-sentiment-analysis-applications/\n",
    "* Hybrid Approach for Single Text Document Summarization using Statistical and Sentiment Features(https://arxiv.org/pdf/1601.00643v1.pdf)"
   ]
  },
  {
   "cell_type": "markdown",
   "metadata": {},
   "source": [
    "# preprocess"
   ]
  },
  {
   "cell_type": "markdown",
   "metadata": {},
   "source": [
    "# create glove vector "
   ]
  },
  {
   "cell_type": "code",
   "execution_count": 2,
   "metadata": {},
   "outputs": [
    {
     "name": "stdout",
     "output_type": "stream",
     "text": [
      "1537\n"
     ]
    },
    {
     "name": "stderr",
     "output_type": "stream",
     "text": [
      "Iteration 1000: loss: 9.045769691467285"
     ]
    }
   ],
   "source": [
    "# create glove vector \n",
    "#! wget http://downloads.cs.stanford.edu/nlp/data/glove.6B.zip\n",
    "#!pip install -U mittens\n",
    "\n",
    "# using Glove\n",
    "from mittens import GloVe\n",
    "import pandas as pd\n",
    "import pickle\n",
    "from cooccurrence import Cooccurrence\n",
    "model = Cooccurrence()\n",
    "\n",
    "df_test = pd.read_excel('datasets/Labeled_data.xlsx', sheetname=0, encoding='utf-8')\n",
    "df_test.drop(['Unnamed: 0','Unnamed: 4'], axis=1, inplace=True)\n",
    "df_test.dropna(how='all', inplace=True)\n",
    "df_test = df_test.dropna(subset=['Conversations (Raw data)'])\n",
    "df_test = df_test.dropna(subset=['Label'])\n",
    "df_test['clean_text'] = df_test['Conversations (Raw data)'].apply(lambda x: str(x).strip().replace(\"\\n\",\"\").replace(\"\\n\",\"\"))\n",
    "#print(list(df_test['clean_text'][:10]))\n",
    "\n",
    "with open(\"datasets/Quarterly_earnings/post_segmentaion.txt\",'r') as f:\n",
    "    ps_text_list = f.readlines()\n",
    "ps_text_list = [i.strip(\"\\n\") for i in ps_text_list]\n",
    "ps_text_list = [i for i in ps_text_list if len(i.split()) > 6]\n",
    "\n",
    "#print(ps_text_list[:10])\n",
    "# Load 'cooccurrence'\n",
    "docs = list(df_test['clean_text']) #+ ps_text_list # list of docs/sents.\n",
    "print(len(docs))\n",
    "Xc = model.fit_transform(docs)\n",
    "#Check vocabulary by printing\n",
    "#model.vocabulary_\n",
    "\n",
    "# Train GloVe model\n",
    "glove_model = GloVe(n=50, max_iter=1000)  # 25 is the embedding dimension\n",
    "embeddings = glove_model.fit(Xc.toarray())\n"
   ]
  },
  {
   "cell_type": "markdown",
   "metadata": {},
   "source": [
    "# finetune glove vector"
   ]
  },
  {
   "cell_type": "code",
   "execution_count": 7,
   "metadata": {},
   "outputs": [
    {
     "name": "stderr",
     "output_type": "stream",
     "text": [
      "/home/mluser/user_achyuta/mc/venvQA3.6/lib/python3.6/site-packages/pandas/util/_decorators.py:188: FutureWarning: The `sheetname` keyword is deprecated, use `sheet_name` instead\n",
      "  return func(*args, **kwargs)\n"
     ]
    },
    {
     "name": "stdout",
     "output_type": "stream",
     "text": [
      "1537\n",
      "after :  400000\n"
     ]
    }
   ],
   "source": [
    "# finetune glove vector\n",
    "import csv\n",
    "import numpy as np\n",
    "from mittens import Mittens\n",
    "import pandas as pd\n",
    "from cooccurrence import Cooccurrence\n",
    "model = Cooccurrence() #, ngram_range=(1, 1)\n",
    "\n",
    "glove_filename = \"pretrained-word-vectors/glove.6B.50d.txt\"\n",
    "\n",
    "def glove2dict(glove_filename):\n",
    "    with open(glove_filename) as f:\n",
    "        reader = csv.reader(f, delimiter=' ', quoting=csv.QUOTE_NONE)\n",
    "        embed = {line[0]: np.array(list(map(float, line[1:])))\n",
    "                for line in reader}\n",
    "    return embed\n",
    "\n",
    "\n",
    "# Load `cooccurrence` and `vocab`\n",
    "df_test = pd.read_excel('datasets/Labeled_data.xlsx', sheetname=0, encoding='utf-8')\n",
    "df_test.drop(['Unnamed: 0','Unnamed: 4'], axis=1, inplace=True)\n",
    "df_test.dropna(how='all', inplace=True)\n",
    "df_test = df_test.dropna(subset=['Conversations (Raw data)'])\n",
    "df_test = df_test.dropna(subset=['Label'])\n",
    "df_test['clean_text'] = df_test['Conversations (Raw data)'].apply(lambda x: str(x).strip().replace(\"\\n\",\"\").replace(\"\\n\",\"\"))\n",
    "#print(list(df_test['clean_text'][:10]))\n",
    "\n",
    "with open(\"datasets/Quarterly_earnings/post_segmentaion.txt\",'r') as f:\n",
    "    ps_text_list = f.readlines()\n",
    "ps_text_list = [i.strip(\"\\n\") for i in ps_text_list]\n",
    "ps_text_list = [i for i in ps_text_list if len(i.split()) > 6]\n",
    "\n",
    "#print(ps_text_list[:10])\n",
    "# Load 'cooccurrence'\n",
    "docs = list(df_test['clean_text']) #+ ps_text_list # list of docs/sents.\n",
    "print(len(docs))\n",
    "Xc = model.fit_transform(docs)\n",
    "#Check vocabulary by printing\n",
    "#model.vocabulary_\n",
    "\n",
    "# Load `original_embedding`\n",
    "word_embd_org = glove2dict(glove_filename)\n",
    "'''\n",
    "mittens_model = Mittens(n=50, max_iter=1000)\n",
    "# Note: n must match the original embedding dimension\n",
    "new_embeddings = mittens_model.fit(\n",
    "    Xc.toarray(),\n",
    "    vocab=model.vocabulary_,\n",
    "    initial_embedding_dict= word_embd_org)\n",
    "\n",
    "print(new_embeddings.shape)\n",
    "print(\"before : \",len(word_embd_org))\n",
    "\n",
    "voc = model.vocabulary_.keys()\n",
    "for ind,key in enumerate(voc):\n",
    "    word_embd_org.update({key:new_embeddings[ind]})\n",
    "'''\n",
    "print(\"after : \",len(word_embd_org))"
   ]
  },
  {
   "cell_type": "markdown",
   "metadata": {},
   "source": [
    "# preprocess structured classifier data for train/val/test."
   ]
  },
  {
   "cell_type": "code",
   "execution_count": 6,
   "metadata": {},
   "outputs": [
    {
     "name": "stdout",
     "output_type": "stream",
     "text": [
      "                                          clean_text     Label\n",
      "0  Buy-ranked UnitedHealth’s shares have outperfo...  positive\n",
      "1  The Zacks analyst thinks the company's perform...  positive\n",
      "2  The company's robust Government business is al...  positive\n",
      "3  Its international business and strong capital ...  positive\n",
      "4  The company’s raised earnings guidance for 201...  positive\n",
      "                                          clean_text     Label  label\n",
      "0  Buy-ranked UnitedHealth’s shares have outperfo...  positive      1\n",
      "1  The Zacks analyst thinks the company's perform...  positive      1\n",
      "2  The company's robust Government business is al...  positive      1\n",
      "3  Its international business and strong capital ...  positive      1\n",
      "4  The company’s raised earnings guidance for 201...  positive      1\n",
      "434 970 133\n",
      "1078 241 218\n"
     ]
    },
    {
     "data": {
      "text/plain": [
       "'\\n#dict_x = df_test[[\\'clean_text\\',\\'Label\\',\\'label\\']].to_dict()\\nwith open(\\'data/train.tsv\\', \\'w\\') as f:\\n    for ind, val in enumerate(list(zip(list(result_train[\\'label\\']),list(result_train[\\'clean_text\\'])))):\\n        #print(ind,val[0],val[1])\\n        f.write(\"%s\\t%s\\t\\t%s\\n\"%(ind,val[0],val[1]))\\n\\nwith open(\\'data/dev.tsv\\', \\'w\\') as f:\\n    for ind, val in enumerate(list(zip(list(result_val[\\'label\\']),list(result_val[\\'clean_text\\'])))):\\n        #print(ind,val[0],val[1])\\n        f.write(\"%s\\t%s\\t\\t%s\\n\"%(ind,val[0],val[1]))\\n\\nwith open(\\'data/test.tsv\\', \\'w\\') as f:\\n    for ind, val in enumerate(list(zip(list(result_test[\\'label\\']),list(result_test[\\'clean_text\\'])))):\\n        #print(ind,val[0],val[1])\\n        f.write(\"%s\\t%s\\n\"%(ind,val[1]))\\n\\nwith open(\\'data/test_actual.tsv\\', \\'w\\') as f:\\n    for ind, val in enumerate(list(zip(list(result_test[\\'label\\']),list(result_test[\\'clean_text\\'])))):\\n        #print(ind,val[0],val[1])\\n        f.write(\"%s\\t%s\\t\\t%s\\n\"%(ind,val[0],val[1]))\\n'"
      ]
     },
     "execution_count": 6,
     "metadata": {},
     "output_type": "execute_result"
    }
   ],
   "source": [
    "import pandas as pd\n",
    "\n",
    "df_test = pd.read_excel('datasets/Labeled_data.xlsx', sheetname=0)\n",
    "df_test.drop(['Unnamed: 0','Unnamed: 4'], axis=1, inplace=True)\n",
    "df_test.dropna(how='all', inplace=True)\n",
    "df_test = df_test.dropna(subset=['Conversations (Raw data)'])\n",
    "df_test = df_test.dropna(subset=['Label'])\n",
    "df_test['clean_text'] = df_test['Conversations (Raw data)'].apply(lambda x: str(x).strip().replace(\"\\n\",\"\").replace(\"\\n\",\"\"))\n",
    "df_test['Label'] = df_test[\"Label\"].apply(lambda x: str(x).lower().strip())\n",
    "df_test = df_test[df_test['Label'] != 'nan']\n",
    "\n",
    "print(df_test[['clean_text','Label']].head())\n",
    "def convert(x):\n",
    "    if x == 'positive':\n",
    "        return 1\n",
    "    elif x == 'negative':\n",
    "        return 0\n",
    "    elif x == 'neutral':\n",
    "        return 2\n",
    "    return 3\n",
    "\n",
    "convert_mapping = {\n",
    "           'positive': 1,\n",
    "           'negative': 0,\n",
    "           'neutral': 2}\n",
    "\n",
    "df_test['label'] = df_test['Label'].apply(lambda x: convert(x))#.map(convert_mapping)\n",
    "\n",
    "print(df_test[['clean_text','Label','label']].head())\n",
    "\n",
    "df_test_0 = df_test[df_test['label']==0]\n",
    "df_test_1 = df_test[df_test['label']==1]\n",
    "df_test_2 = df_test[df_test['label']==2]\n",
    "\n",
    "print(len(df_test_0),len(df_test_1),len(df_test_2))\n",
    "\n",
    "#df_test['label'].unique()\n",
    "import numpy as np\n",
    "\n",
    "probs = np.random.rand(len(df_test_0))\n",
    "training_mask_0 = probs < 0.7\n",
    "test_mask_0 = (probs>=0.7) & (probs < 0.85)\n",
    "validatoin_mask_0 = probs >= 0.85\n",
    "\n",
    "probs = np.random.rand(len(df_test_1))\n",
    "training_mask_1 = probs < 0.7\n",
    "test_mask_1 = (probs>=0.7) & (probs < 0.85)\n",
    "validatoin_mask_1 = probs >= 0.85\n",
    "\n",
    "probs = np.random.rand(len(df_test_2))\n",
    "training_mask_2 = probs < 0.7\n",
    "test_mask_2 = (probs>=0.7) & (probs < 0.85)\n",
    "validatoin_mask_2 = probs >= 0.85\n",
    "\n",
    "\n",
    "df_training_0 = df_test_0[training_mask_0]\n",
    "df_testing_0 = df_test_0[test_mask_0]\n",
    "df_validation_0 = df_test_0[validatoin_mask_0]\n",
    "\n",
    "df_training_1 = df_test_1[training_mask_1]\n",
    "df_testing_1 = df_test_1[test_mask_1]\n",
    "df_validation_1 = df_test_1[validatoin_mask_1]\n",
    "\n",
    "df_training_2 = df_test_2[training_mask_2]\n",
    "df_testing_2 = df_test_2[test_mask_2]\n",
    "df_validation_2 = df_test_2[validatoin_mask_2]\n",
    "\n",
    "result_train = pd.concat([df_training_0,df_training_1,df_training_2])\n",
    "result_test = pd.concat([df_testing_0,df_testing_1,df_testing_2])\n",
    "result_val = pd.concat([df_validation_0,df_validation_1,df_validation_2])\n",
    "\n",
    "print(len(result_train),len(result_test),len(result_val))\n",
    "\n",
    "'''\n",
    "#dict_x = df_test[['clean_text','Label','label']].to_dict()\n",
    "with open('data/train.tsv', 'w') as f:\n",
    "    for ind, val in enumerate(list(zip(list(result_train['label']),list(result_train['clean_text'])))):\n",
    "        #print(ind,val[0],val[1])\n",
    "        f.write(\"%s\\t%s\\t\\t%s\\n\"%(ind,val[0],val[1]))\n",
    "\n",
    "with open('data/dev.tsv', 'w') as f:\n",
    "    for ind, val in enumerate(list(zip(list(result_val['label']),list(result_val['clean_text'])))):\n",
    "        #print(ind,val[0],val[1])\n",
    "        f.write(\"%s\\t%s\\t\\t%s\\n\"%(ind,val[0],val[1]))\n",
    "\n",
    "with open('data/test.tsv', 'w') as f:\n",
    "    for ind, val in enumerate(list(zip(list(result_test['label']),list(result_test['clean_text'])))):\n",
    "        #print(ind,val[0],val[1])\n",
    "        f.write(\"%s\\t%s\\n\"%(ind,val[1]))\n",
    "\n",
    "with open('data/test_actual.tsv', 'w') as f:\n",
    "    for ind, val in enumerate(list(zip(list(result_test['label']),list(result_test['clean_text'])))):\n",
    "        #print(ind,val[0],val[1])\n",
    "        f.write(\"%s\\t%s\\t\\t%s\\n\"%(ind,val[0],val[1]))\n",
    "'''"
   ]
  },
  {
   "cell_type": "code",
   "execution_count": 7,
   "metadata": {},
   "outputs": [
    {
     "name": "stderr",
     "output_type": "stream",
     "text": [
      "/home/mluser/user_achyuta/mc/venvQA3.6/lib/python3.6/site-packages/pandas/core/ops.py:1649: FutureWarning: elementwise comparison failed; returning scalar instead, but in the future will perform elementwise comparison\n",
      "  result = method(y)\n"
     ]
    },
    {
     "name": "stdout",
     "output_type": "stream",
     "text": [
      "before drop :  7075\n",
      "after drop :  3305\n",
      "869 2168 268\n",
      "2315 525 465\n"
     ]
    },
    {
     "data": {
      "text/plain": [
       "'\\n#dict_x = df_test[[\\'clean_text\\',\\'Label\\',\\'label\\']].to_dict()\\nwith open(\\'data/new_data/train.tsv\\', \\'w\\') as f:\\n    for ind, val in enumerate(list(zip(list(result_train[\\'label\\']),list(result_train[\\'clean_text\\'])))):\\n        #print(ind,val[0],val[1])\\n        f.write(\"%s\\t%s\\t\\t%s\\n\"%(ind,val[0],val[1]))\\n\\nwith open(\\'data/new_data/dev.tsv\\', \\'w\\') as f:\\n    for ind, val in enumerate(list(zip(list(result_val[\\'label\\']),list(result_val[\\'clean_text\\'])))):\\n        #print(ind,val[0],val[1])\\n        f.write(\"%s\\t%s\\t\\t%s\\n\"%(ind,val[0],val[1]))\\n\\nwith open(\\'data/new_data/test.tsv\\', \\'w\\') as f:\\n    for ind, val in enumerate(list(zip(list(result_test[\\'label\\']),list(result_test[\\'clean_text\\'])))):\\n        #print(ind,val[0],val[1])\\n        f.write(\"%s\\t%s\\n\"%(ind,val[1]))\\n\\nwith open(\\'data/new_data/test_actual.tsv\\', \\'w\\') as f:\\n    for ind, val in enumerate(list(zip(list(result_test[\\'label\\']),list(result_test[\\'clean_text\\'])))):\\n        #print(ind,val[0],val[1])\\n        f.write(\"%s\\t%s\\t\\t%s\\n\"%(ind,val[0],val[1]))\\n'"
      ]
     },
     "execution_count": 7,
     "metadata": {},
     "output_type": "execute_result"
    }
   ],
   "source": [
    "# Statement\tSpeaker\tPOS Tags\tTop Scoring Words\tTopic of the Sentence\tSentiment of the sentence\tEntity Name\tFinance Jargon\tLength (num characters)\tContains Useful information (yes / no)\tContains action item (yes / no)\tKeyword\n",
    "import pandas as pd\n",
    "import glob\n",
    "file_list = glob.glob(\"datasets/Labeled_data.xlsx\")\n",
    "\n",
    "df = pd.DataFrame()\n",
    "\n",
    "for filename in file_list:\n",
    "    df_tmp = pd.read_excel(filename, sheetname=0)\n",
    "    #print(df_tmp.columns)\n",
    "    #df_tmp.drop(['Unnamed: 0','Unnamed: 4'], axis=1, inplace=True)\n",
    "    df_tmp.dropna(how='all', inplace=True)\n",
    "    if len(df_tmp) < 3 :\n",
    "        #print(\"size less : \",filename)\n",
    "        continue\n",
    "    if \"Statement\" not in df_tmp.columns and \"statement\" not in df_tmp.columns:\n",
    "        df_tmp = df_tmp.dropna(subset=['Conversations (Raw data)'])\n",
    "        df_tmp = df_tmp.dropna(subset=['Label'])\n",
    "        df_tmp['clean_text'] = df_tmp['Conversations (Raw data)'].apply(lambda x: str(x).strip().replace(\"\\n\",\"\").replace(\"\\n\",\"\"))\n",
    "        df_tmp['Label'] = df_tmp[\"Label\"].apply(lambda x: str(x).lower().strip())\n",
    "        df_tmp = df_tmp[df_tmp['Label'] != 'nan']\n",
    "    else:\n",
    "        df_tmp.rename({'statement': 'Statement'}, axis=1, inplace=True)\n",
    "        df_tmp = df_tmp.dropna(subset=['Statement'])\n",
    "        df_tmp = df_tmp.dropna(subset=['Sentiment of the sentence'])\n",
    "        df_tmp['clean_text'] = df_tmp['Statement'].apply(lambda x: str(x).strip().replace(\"\\n\",\"\").replace(\"\\n\",\"\"))\n",
    "        df_tmp['Label'] = df_tmp[\"Sentiment of the sentence\"].apply(lambda x: str(x).lower().strip())\n",
    "        df_tmp = df_tmp[df_tmp['Label'] != 'nan']\n",
    "\n",
    "    df_tmp = df_tmp[['clean_text','Label']]\n",
    "    df = pd.concat([df, df_tmp], ignore_index=True)\n",
    "\n",
    "print(\"before drop : \",len(df))\n",
    "# dropping ALL duplicte values \n",
    "df.drop_duplicates(subset =\"clean_text\", keep = False, inplace = True) \n",
    "print(\"after drop : \",len(df))\n",
    "#print(df.columns)\n",
    "#print(df.head())\n",
    "#print(df.tail())\n",
    "\n",
    "def convert(x):\n",
    "    if x == 'positive':\n",
    "        return 1\n",
    "    elif x == 'negative':\n",
    "        return 0\n",
    "    elif x == 'neutral':\n",
    "        return 2\n",
    "    return 3\n",
    "\n",
    "convert_mapping = {\n",
    "           'positive': 1,\n",
    "           'negative': 0,\n",
    "           'neutral': 2}\n",
    "\n",
    "df['label'] = df['Label'].apply(lambda x: convert(x))#.map(convert_mapping)\n",
    "\n",
    "df_test = df\n",
    "\n",
    "#print(df_test[['clean_text','Label','label']].head())\n",
    "\n",
    "df_test_0 = df_test[df_test['label']==0]\n",
    "df_test_1 = df_test[df_test['label']==1]\n",
    "df_test_2 = df_test[df_test['label']==2]\n",
    "\n",
    "print(len(df_test_0),len(df_test_1),len(df_test_2))\n",
    "\n",
    "#df_test['label'].unique()\n",
    "import numpy as np\n",
    "\n",
    "probs = np.random.rand(len(df_test_0))\n",
    "training_mask_0 = probs < 0.7\n",
    "test_mask_0 = (probs>=0.7) & (probs < 0.85)\n",
    "validatoin_mask_0 = probs >= 0.85\n",
    "\n",
    "probs = np.random.rand(len(df_test_1))\n",
    "training_mask_1 = probs < 0.7\n",
    "test_mask_1 = (probs>=0.7) & (probs < 0.85)\n",
    "validatoin_mask_1 = probs >= 0.85\n",
    "\n",
    "probs = np.random.rand(len(df_test_2))\n",
    "training_mask_2 = probs < 0.7\n",
    "test_mask_2 = (probs>=0.7) & (probs < 0.85)\n",
    "validatoin_mask_2 = probs >= 0.85\n",
    "\n",
    "\n",
    "df_training_0 = df_test_0[training_mask_0]\n",
    "df_testing_0 = df_test_0[test_mask_0]\n",
    "df_validation_0 = df_test_0[validatoin_mask_0]\n",
    "\n",
    "df_training_1 = df_test_1[training_mask_1]\n",
    "df_testing_1 = df_test_1[test_mask_1]\n",
    "df_validation_1 = df_test_1[validatoin_mask_1]\n",
    "\n",
    "df_training_2 = df_test_2[training_mask_2]\n",
    "df_testing_2 = df_test_2[test_mask_2]\n",
    "df_validation_2 = df_test_2[validatoin_mask_2]\n",
    "\n",
    "result_train = pd.concat([df_training_0,df_training_1,df_training_2])\n",
    "result_test = pd.concat([df_testing_0,df_testing_1,df_testing_2])\n",
    "result_val = pd.concat([df_validation_0,df_validation_1,df_validation_2])\n",
    "\n",
    "print(len(result_train),len(result_test),len(result_val))\n",
    "'''\n",
    "#dict_x = df_test[['clean_text','Label','label']].to_dict()\n",
    "with open('data/new_data/train.tsv', 'w') as f:\n",
    "    for ind, val in enumerate(list(zip(list(result_train['label']),list(result_train['clean_text'])))):\n",
    "        #print(ind,val[0],val[1])\n",
    "        f.write(\"%s\\t%s\\t\\t%s\\n\"%(ind,val[0],val[1]))\n",
    "\n",
    "with open('data/new_data/dev.tsv', 'w') as f:\n",
    "    for ind, val in enumerate(list(zip(list(result_val['label']),list(result_val['clean_text'])))):\n",
    "        #print(ind,val[0],val[1])\n",
    "        f.write(\"%s\\t%s\\t\\t%s\\n\"%(ind,val[0],val[1]))\n",
    "\n",
    "with open('data/new_data/test.tsv', 'w') as f:\n",
    "    for ind, val in enumerate(list(zip(list(result_test['label']),list(result_test['clean_text'])))):\n",
    "        #print(ind,val[0],val[1])\n",
    "        f.write(\"%s\\t%s\\n\"%(ind,val[1]))\n",
    "\n",
    "with open('data/new_data/test_actual.tsv', 'w') as f:\n",
    "    for ind, val in enumerate(list(zip(list(result_test['label']),list(result_test['clean_text'])))):\n",
    "        #print(ind,val[0],val[1])\n",
    "        f.write(\"%s\\t%s\\t\\t%s\\n\"%(ind,val[0],val[1]))\n",
    "'''"
   ]
  },
  {
   "cell_type": "markdown",
   "metadata": {},
   "source": [
    "# get sentence embeddings"
   ]
  },
  {
   "cell_type": "code",
   "execution_count": 8,
   "metadata": {},
   "outputs": [
    {
     "name": "stdout",
     "output_type": "stream",
     "text": [
      "[ 2.18620125e-01  2.81472875e-01 -1.25106875e-01  1.50036250e-01\n",
      "  5.96343750e-01  3.22677875e-01 -3.13277013e-01 -1.56962500e-01\n",
      " -4.68037529e-01 -3.47117500e-01  5.51527500e-02  1.98861250e-01\n",
      " -3.15731125e-01 -6.99631250e-03  4.22275063e-01  3.30072250e-01\n",
      "  3.31215625e-01  5.57588750e-02 -4.45320375e-02  1.90551375e-01\n",
      "  6.86348750e-02  2.29917500e-01  6.15846250e-02 -1.14000000e-03\n",
      "  3.55171250e-01 -1.95211250e+00 -1.84775000e-01 -1.63584875e-01\n",
      " -3.37210500e-01  3.41669500e-01  3.28406250e+00  1.02216000e-01\n",
      " -4.85905000e-01 -8.60532500e-02  7.66383913e-02  7.14194125e-02\n",
      "  8.65075000e-02  1.53622000e-01 -6.14226250e-02  2.87821250e-02\n",
      " -3.40749125e-01  5.98435000e-01 -2.10346500e-01 -3.86917000e-01\n",
      "  5.53227500e-02  3.06330000e-01 -7.61394513e-01  1.39012500e-02\n",
      "  4.83082750e-01 -2.62835125e-01]\n"
     ]
    }
   ],
   "source": [
    "#help(gensim.models.Word2Vec.load_word2vec_format)\n",
    "#dir(gensim.models.Word2Vec)\n",
    "#word_embd_org\n",
    "\n",
    "# GloVe, FastText or Custom Embedding\n",
    "            #######################################\n",
    "\n",
    "word2idx = {}\n",
    "embedding_matrix = []\n",
    "\n",
    "for i, key in enumerate(word_embd_org.keys()):\n",
    "    word, vector = key , word_embd_org.get(key)\n",
    "    word2idx[word] = i\n",
    "    embedding = np.array(vector).astype(float)\n",
    "    embedding_matrix.append(embedding)\n",
    "\n",
    "embedding_matrix = np.array(embedding_matrix)\n",
    "word2idx = word2idx\n",
    "\n",
    "# sentence embedding\n",
    "in_text = \"who is the prime minister of india ?\"\n",
    "indices = [word2idx[w] for w in in_text.split() if w in word2idx]\n",
    "embeddings = embedding_matrix[indices]\n",
    "avg_embedding = np.mean(embeddings, axis=0)\n",
    "print(avg_embedding)"
   ]
  },
  {
   "cell_type": "code",
   "execution_count": 9,
   "metadata": {},
   "outputs": [
    {
     "ename": "NameError",
     "evalue": "name 'result_train' is not defined",
     "output_type": "error",
     "traceback": [
      "\u001b[0;31m---------------------------------------------------------------------------\u001b[0m",
      "\u001b[0;31mNameError\u001b[0m                                 Traceback (most recent call last)",
      "\u001b[0;32m<ipython-input-9-f2744d4357af>\u001b[0m in \u001b[0;36m<module>\u001b[0;34m\u001b[0m\n\u001b[1;32m     24\u001b[0m     \u001b[0;32mreturn\u001b[0m \u001b[0membeddings\u001b[0m\u001b[0;34m.\u001b[0m\u001b[0mmin\u001b[0m\u001b[0;34m(\u001b[0m\u001b[0maxis\u001b[0m\u001b[0;34m=\u001b[0m\u001b[0;36m0\u001b[0m\u001b[0;34m)\u001b[0m \u001b[0;34m+\u001b[0m \u001b[0membeddings\u001b[0m\u001b[0;34m.\u001b[0m\u001b[0mmax\u001b[0m\u001b[0;34m(\u001b[0m\u001b[0maxis\u001b[0m\u001b[0;34m=\u001b[0m\u001b[0;36m0\u001b[0m\u001b[0;34m)\u001b[0m\u001b[0;34m\u001b[0m\u001b[0m\n\u001b[1;32m     25\u001b[0m \u001b[0;34m\u001b[0m\u001b[0m\n\u001b[0;32m---> 26\u001b[0;31m \u001b[0mresult_train\u001b[0m\u001b[0;34m[\u001b[0m\u001b[0;34m'clean_text_vec'\u001b[0m\u001b[0;34m]\u001b[0m \u001b[0;34m=\u001b[0m \u001b[0mresult_train\u001b[0m\u001b[0;34m[\u001b[0m\u001b[0;34m'clean_text'\u001b[0m\u001b[0;34m]\u001b[0m\u001b[0;34m.\u001b[0m\u001b[0mapply\u001b[0m\u001b[0;34m(\u001b[0m\u001b[0;32mlambda\u001b[0m \u001b[0mx\u001b[0m\u001b[0;34m:\u001b[0m \u001b[0mmin_max\u001b[0m\u001b[0;34m(\u001b[0m\u001b[0mx\u001b[0m\u001b[0;34m)\u001b[0m\u001b[0;34m)\u001b[0m\u001b[0;34m\u001b[0m\u001b[0m\n\u001b[0m\u001b[1;32m     27\u001b[0m \u001b[0mresult_val\u001b[0m\u001b[0;34m[\u001b[0m\u001b[0;34m'clean_text_vec'\u001b[0m\u001b[0;34m]\u001b[0m \u001b[0;34m=\u001b[0m \u001b[0mresult_val\u001b[0m\u001b[0;34m[\u001b[0m\u001b[0;34m'clean_text'\u001b[0m\u001b[0;34m]\u001b[0m\u001b[0;34m.\u001b[0m\u001b[0mapply\u001b[0m\u001b[0;34m(\u001b[0m\u001b[0;32mlambda\u001b[0m \u001b[0mx\u001b[0m\u001b[0;34m:\u001b[0m \u001b[0mmin_max\u001b[0m\u001b[0;34m(\u001b[0m\u001b[0mx\u001b[0m\u001b[0;34m)\u001b[0m\u001b[0;34m)\u001b[0m\u001b[0;34m\u001b[0m\u001b[0m\n\u001b[1;32m     28\u001b[0m \u001b[0mresult_test\u001b[0m\u001b[0;34m[\u001b[0m\u001b[0;34m'clean_text_vec'\u001b[0m\u001b[0;34m]\u001b[0m \u001b[0;34m=\u001b[0m \u001b[0mresult_test\u001b[0m\u001b[0;34m[\u001b[0m\u001b[0;34m'clean_text'\u001b[0m\u001b[0;34m]\u001b[0m\u001b[0;34m.\u001b[0m\u001b[0mapply\u001b[0m\u001b[0;34m(\u001b[0m\u001b[0;32mlambda\u001b[0m \u001b[0mx\u001b[0m\u001b[0;34m:\u001b[0m \u001b[0mmin_max\u001b[0m\u001b[0;34m(\u001b[0m\u001b[0mx\u001b[0m\u001b[0;34m)\u001b[0m\u001b[0;34m)\u001b[0m\u001b[0;34m\u001b[0m\u001b[0m\n",
      "\u001b[0;31mNameError\u001b[0m: name 'result_train' is not defined"
     ]
    }
   ],
   "source": [
    "#https://github.com/dataiku/dataiku-contrib/blob/master/sentence-embedding/python-lib/sentence_embedding_utils.py\n",
    "def avg_sent_embd(x):\n",
    "    indices = [word2idx[w] for w in in_text.split() if w in word2idx]\n",
    "    embeddings = embedding_matrix[indices]\n",
    "    return np.mean(embeddings, axis=0)\n",
    "\n",
    "def sent_vectorizer(sent, model):\n",
    "    sent_vec = np.zeros(50)\n",
    "    numw = 0\n",
    "    for w in sent:\n",
    "        try:\n",
    "            vc=model[w]\n",
    "            vc=vc[0:50]\n",
    "            \n",
    "            sent_vec = np.add(sent_vec, vc) \n",
    "            numw+=1\n",
    "        except:\n",
    "            pass\n",
    "    return sent_vec / np.sqrt(sent_vec.dot(sent_vec))\n",
    "\n",
    "def min_max(in_text):\n",
    "    indices = [word2idx[w] for w in in_text.split() if w in word2idx]\n",
    "    embeddings = embedding_matrix[indices]\n",
    "    return embeddings.min(axis=0) + embeddings.max(axis=0)\n",
    "\n",
    "result_train['clean_text_vec'] = result_train['clean_text'].apply(lambda x: min_max(x))\n",
    "result_val['clean_text_vec'] = result_val['clean_text'].apply(lambda x: min_max(x))\n",
    "result_test['clean_text_vec'] = result_test['clean_text'].apply(lambda x: min_max(x))"
   ]
  },
  {
   "cell_type": "markdown",
   "metadata": {},
   "source": [
    "## get sentence embeddings using skip-thought\n",
    "* git clone https://github.com/ryankiros/skip-thoughts"
   ]
  },
  {
   "cell_type": "code",
   "execution_count": 2,
   "metadata": {},
   "outputs": [
    {
     "name": "stderr",
     "output_type": "stream",
     "text": [
      "WARNING (theano.tensor.blas): Using NumPy C-API based implementation for BLAS functions.\n"
     ]
    },
    {
     "name": "stdout",
     "output_type": "stream",
     "text": [
      "Loading model parameters...\n",
      "Compiling encoders...\n",
      "Loading tables...\n",
      "Packing up...\n"
     ]
    },
    {
     "data": {
      "text/plain": [
       "array([[ 0.00500237, -0.03471997, -0.01925921, ...,  0.00368641,\n",
       "         0.00105779, -0.00945232]], dtype=float32)"
      ]
     },
     "execution_count": 2,
     "metadata": {},
     "output_type": "execute_result"
    }
   ],
   "source": [
    "from skip_thoughts import skipthoughts\n",
    "model = skipthoughts.load_model()\n",
    "encoder = skipthoughts.Encoder(model)\n",
    "encoder.encode(['hello there !!'])"
   ]
  },
  {
   "cell_type": "code",
   "execution_count": 3,
   "metadata": {},
   "outputs": [],
   "source": [
    "result_train['clean_text_vec'] = result_train['clean_text'].apply(lambda x: encoder.encode([x])[0])\n",
    "result_val['clean_text_vec'] = result_val['clean_text'].apply(lambda x: encoder.encode([x])[0])\n",
    "result_test['clean_text_vec'] = result_test['clean_text'].apply(lambda x: encoder.encode([x])[0])"
   ]
  },
  {
   "cell_type": "markdown",
   "metadata": {},
   "source": [
    "# get sentence embedding using quick-thought\n",
    "* https://arxiv.org/pdf/1803.02893.pdf \n",
    "* https://github.com/lajanugen/S2V"
   ]
  },
  {
   "cell_type": "code",
   "execution_count": null,
   "metadata": {},
   "outputs": [],
   "source": []
  },
  {
   "cell_type": "markdown",
   "metadata": {},
   "source": [
    "# get sentence embedding using UniversalSentenceEncoder\n",
    "* https://arxiv.org/pdf/1803.11175v2.pdf"
   ]
  },
  {
   "cell_type": "code",
   "execution_count": null,
   "metadata": {},
   "outputs": [],
   "source": []
  },
  {
   "cell_type": "markdown",
   "metadata": {},
   "source": [
    "# get sentence embedding using gensen\n",
    "* git clone https://github.com/Maluuba/gensen.git"
   ]
  },
  {
   "cell_type": "code",
   "execution_count": 19,
   "metadata": {},
   "outputs": [
    {
     "name": "stdout",
     "output_type": "stream",
     "text": [
      "  % Total    % Received % Xferd  Average Speed   Time    Time     Time  Current\n",
      "                                 Dload  Upload   Total   Spent    Left  Speed\n",
      "  0   315    0     0    0     0      0      0 --:--:-- --:--:-- --:--:--     0\n",
      "  0   352    0     0    0     0      0      0 --:--:-- --:--:-- --:--:--     0\n",
      "100 2075M  100 2075M    0     0  13.0M      0  0:02:38  0:02:38 --:--:-- 17.1M 0  11.6M      0  0:02:58  0:01:26  0:01:32 11.5M\n",
      "Archive:  glove.840B.300d.zip\n",
      "  inflating: glove.840B.300d.txt     \n",
      "Traceback (most recent call last):\n",
      "  File \"glove2h5.py\", line 12, in <module>\n",
      "    [[float(val) for val in line[1:]] for line in glove_vectors]\n",
      "  File \"glove2h5.py\", line 12, in <listcomp>\n",
      "    [[float(val) for val in line[1:]] for line in glove_vectors]\n",
      "  File \"glove2h5.py\", line 12, in <listcomp>\n",
      "    [[float(val) for val in line[1:]] for line in glove_vectors]\n",
      "ValueError: could not convert string to float: '.'\n"
     ]
    }
   ],
   "source": [
    "#import os\n",
    "#os.chdir('gensen/data/embedding/')\n",
    "#print(os.getcwd())\n",
    "#! bash glove2h5.sh\n",
    "\n",
    "'''\n",
    "from gensen import GenSen, GenSenSingle\n",
    "\n",
    "gensen_1 = GenSenSingle(\n",
    "    model_folder='./data/models',\n",
    "    filename_prefix='nli_large_bothskip',\n",
    "    pretrained_emb='./data/embedding/glove.840B.300d.h5'\n",
    ")\n",
    "reps_h, reps_h_t = gensen_1.get_representation(\n",
    "    sentences, pool='last', return_numpy=True, tokenize=True\n",
    ")\n",
    "print reps_h.shape, reps_h_t.shape\n",
    "'''"
   ]
  },
  {
   "cell_type": "markdown",
   "metadata": {},
   "source": [
    "# get sentence embedding using doc2vec"
   ]
  },
  {
   "cell_type": "code",
   "execution_count": 32,
   "metadata": {},
   "outputs": [
    {
     "ename": "ImportError",
     "evalue": "cannot import name 'Sent2Vec'",
     "output_type": "error",
     "traceback": [
      "\u001b[0;31m---------------------------------------------------------------------------\u001b[0m",
      "\u001b[0;31mImportError\u001b[0m                               Traceback (most recent call last)",
      "\u001b[0;32m<ipython-input-32-c65aef5eea79>\u001b[0m in \u001b[0;36m<module>\u001b[0;34m\u001b[0m\n\u001b[1;32m      1\u001b[0m \u001b[0;32mimport\u001b[0m \u001b[0mgensim\u001b[0m\u001b[0;34m\u001b[0m\u001b[0m\n\u001b[0;32m----> 2\u001b[0;31m \u001b[0;32mfrom\u001b[0m \u001b[0mgensim\u001b[0m\u001b[0;34m.\u001b[0m\u001b[0mmodels\u001b[0m \u001b[0;32mimport\u001b[0m \u001b[0mSent2Vec\u001b[0m\u001b[0;34m\u001b[0m\u001b[0m\n\u001b[0m\u001b[1;32m      3\u001b[0m \u001b[0;32mfrom\u001b[0m \u001b[0mgensim\u001b[0m\u001b[0;34m.\u001b[0m\u001b[0mtest\u001b[0m\u001b[0;34m.\u001b[0m\u001b[0mutils\u001b[0m \u001b[0;32mimport\u001b[0m \u001b[0mcommon_texts\u001b[0m\u001b[0;34m\u001b[0m\u001b[0m\n\u001b[1;32m      4\u001b[0m \u001b[0mmodel\u001b[0m \u001b[0;34m=\u001b[0m \u001b[0mSent2Vec\u001b[0m\u001b[0;34m(\u001b[0m\u001b[0mcommon_texts\u001b[0m\u001b[0;34m,\u001b[0m \u001b[0msize\u001b[0m\u001b[0;34m=\u001b[0m\u001b[0;36m100\u001b[0m\u001b[0;34m,\u001b[0m \u001b[0mmin_count\u001b[0m\u001b[0;34m=\u001b[0m\u001b[0;36m1\u001b[0m\u001b[0;34m)\u001b[0m\u001b[0;34m\u001b[0m\u001b[0m\n",
      "\u001b[0;31mImportError\u001b[0m: cannot import name 'Sent2Vec'"
     ]
    }
   ],
   "source": [
    "import gensim\n",
    "from gensim.models import Sent2Vec\n",
    "from gensim.test.utils import common_texts\n",
    "model = Sent2Vec(common_texts, size=100, min_count=1)\n",
    "\n",
    "sentences = []\n",
    "for uid, line in enumerate(open(filename)):\n",
    "    sentences.append(LabeledSentence(words=line.split(), labels=['SENT_%s' %       uid]))\n",
    "\n",
    "model = Doc2Vec(alpha=0.025, min_alpha=0.025)\n",
    "model.build_vocab(sentences)\n",
    "for epoch in range(10):\n",
    "    model.train(sentences)\n",
    "    model.alpha -= 0.002\n",
    "    model.min_alpha = model.alpha\n",
    "sent_reg = r'[SENT].*'\n",
    "for item in model.vocab.keys():\n",
    "    sent = re.search(sent_reg, item)\n",
    "    if sent:\n",
    "        continue\n",
    "    else:\n",
    "        print item\n",
    "\n",
    "###I'm not sure how to produce the vectors from here and this doesn't work##   \n",
    "sent_id = 0\n",
    "for item in model:\n",
    "    print model[\"SENT_\"+str(sent_id)]\n",
    "    sent_id += 1"
   ]
  },
  {
   "cell_type": "markdown",
   "metadata": {},
   "source": [
    "# get sentence embedding using fasttext"
   ]
  },
  {
   "cell_type": "code",
   "execution_count": null,
   "metadata": {},
   "outputs": [],
   "source": [
    "import numpy as np\n",
    "import fastText as ft\n",
    "\n",
    "# Loading model for Finnish.\n",
    "model = ft.load_model('cc.fi.300.bin')\n",
    "\n",
    "# Getting word vectors for 'one' and 'two'.\n",
    "one = model.get_word_vector('yksi')\n",
    "two = model.get_word_vector('kaksi')\n",
    "\n",
    "# Getting the sentence vector for the sentence \"one two\" in Finnish.\n",
    "one_two = model.get_sentence_vector('yksi kaksi')\n",
    "one_two_avg = (one + two) / 2\n",
    "\n",
    "# Checking if the two approaches yield the same result.\n",
    "is_equal = np.array_equal(one_two, one_two_avg)\n",
    "\n",
    "# Printing the result.\n",
    "print(is_equal)\n",
    "\n",
    "# Result: FALSE\n",
    "\n",
    "def l2_norm(x):\n",
    "   return np.sqrt(np.sum(x**2))\n",
    "\n",
    "def div_norm(x):\n",
    "   norm_value = l2_norm(x)\n",
    "   if norm_value > 0:\n",
    "       return x * ( 1.0 / norm_value)\n",
    "   else:\n",
    "       return x\n",
    "\n",
    "# Getting word vectors for 'one' and 'two'.\n",
    "one = model.get_word_vector('yksi')\n",
    "two = model.get_word_vector('kaksi')\n",
    "eos = model.get_word_vector('\\n')\n",
    "\n",
    "# Getting the sentence vector for the sentence \"one two\" in Finnish.\n",
    "one_two = model.get_sentence_vector('yksi kaksi')\n",
    "one_two_avg = (div_norm(one) + div_norm(two) + div_norm(eos)) / 3\n",
    "\n",
    "# Checking if the two approaches yield the same result.\n",
    "is_equal = np.array_equal(one_two, one_two_avg)\n",
    "\n",
    "# Printing the result.\n",
    "print(is_equal)"
   ]
  },
  {
   "cell_type": "markdown",
   "metadata": {},
   "source": [
    "# train & evaluate & test"
   ]
  },
  {
   "cell_type": "markdown",
   "metadata": {},
   "source": [
    "# using Logistic Regression"
   ]
  },
  {
   "cell_type": "code",
   "execution_count": 5,
   "metadata": {},
   "outputs": [
    {
     "name": "stdout",
     "output_type": "stream",
     "text": [
      "Accuracy for C=0.01: 0.7515274949083504\n",
      "Accuracy for C=0.05: 0.780040733197556\n",
      "Accuracy for C=0.25: 0.7739307535641547\n",
      "Accuracy for C=0.5: 0.7759674134419552\n",
      "Accuracy for C=1: 0.7759674134419552\n"
     ]
    },
    {
     "name": "stderr",
     "output_type": "stream",
     "text": [
      "/home/mluser/user_achyuta/mc/venvQA3.6/lib/python3.6/site-packages/sklearn/linear_model/logistic.py:432: FutureWarning: Default solver will be changed to 'lbfgs' in 0.22. Specify a solver to silence this warning.\n",
      "  FutureWarning)\n",
      "/home/mluser/user_achyuta/mc/venvQA3.6/lib/python3.6/site-packages/sklearn/linear_model/logistic.py:459: FutureWarning: Default multi_class will be changed to 'auto' in 0.22. Specify the multi_class option to silence this warning.\n",
      "  \"this warning.\", FutureWarning)\n",
      "/home/mluser/user_achyuta/mc/venvQA3.6/lib/python3.6/site-packages/sklearn/linear_model/logistic.py:432: FutureWarning: Default solver will be changed to 'lbfgs' in 0.22. Specify a solver to silence this warning.\n",
      "  FutureWarning)\n",
      "/home/mluser/user_achyuta/mc/venvQA3.6/lib/python3.6/site-packages/sklearn/linear_model/logistic.py:459: FutureWarning: Default multi_class will be changed to 'auto' in 0.22. Specify the multi_class option to silence this warning.\n",
      "  \"this warning.\", FutureWarning)\n",
      "/home/mluser/user_achyuta/mc/venvQA3.6/lib/python3.6/site-packages/sklearn/linear_model/logistic.py:432: FutureWarning: Default solver will be changed to 'lbfgs' in 0.22. Specify a solver to silence this warning.\n",
      "  FutureWarning)\n",
      "/home/mluser/user_achyuta/mc/venvQA3.6/lib/python3.6/site-packages/sklearn/linear_model/logistic.py:459: FutureWarning: Default multi_class will be changed to 'auto' in 0.22. Specify the multi_class option to silence this warning.\n",
      "  \"this warning.\", FutureWarning)\n",
      "/home/mluser/user_achyuta/mc/venvQA3.6/lib/python3.6/site-packages/sklearn/linear_model/logistic.py:432: FutureWarning: Default solver will be changed to 'lbfgs' in 0.22. Specify a solver to silence this warning.\n",
      "  FutureWarning)\n",
      "/home/mluser/user_achyuta/mc/venvQA3.6/lib/python3.6/site-packages/sklearn/linear_model/logistic.py:459: FutureWarning: Default multi_class will be changed to 'auto' in 0.22. Specify the multi_class option to silence this warning.\n",
      "  \"this warning.\", FutureWarning)\n",
      "/home/mluser/user_achyuta/mc/venvQA3.6/lib/python3.6/site-packages/sklearn/linear_model/logistic.py:432: FutureWarning: Default solver will be changed to 'lbfgs' in 0.22. Specify a solver to silence this warning.\n",
      "  FutureWarning)\n",
      "/home/mluser/user_achyuta/mc/venvQA3.6/lib/python3.6/site-packages/sklearn/linear_model/logistic.py:459: FutureWarning: Default multi_class will be changed to 'auto' in 0.22. Specify the multi_class option to silence this warning.\n",
      "  \"this warning.\", FutureWarning)\n"
     ]
    }
   ],
   "source": [
    "#https://towardsdatascience.com/sentiment-analysis-with-python-part-1-5ce197074184\n",
    "from sklearn.linear_model import LogisticRegression\n",
    "from sklearn.metrics import classification_report, confusion_matrix, accuracy_score\n",
    "from sklearn.model_selection import train_test_split\n",
    "import seaborn as sns\n",
    "import matplotlib.pyplot as plt\n",
    "%matplotlib inline\n",
    "\n",
    "\n",
    "#print(list(result_train['clean_text_vec'][:3]))\n",
    "#print(list(result_val['clean_text_vec'][:3]))\n",
    "X_train = list(result_train['clean_text_vec'])\n",
    "X_val = list(result_val['clean_text_vec'])\n",
    "y_train = list(result_train['label'])\n",
    "y_val = list(result_val['label'])\n",
    "X_test = list(result_test['clean_text_vec'])\n",
    "y_test = list(result_test['label'])\n",
    "\n",
    "for c in [0.01, 0.05, 0.25, 0.5, 1]:\n",
    "    \n",
    "    lr = LogisticRegression(C=c)\n",
    "    lr.fit(X_train, y_train)\n",
    "    print (\"Accuracy for C=%s: %s\" \n",
    "% (c, accuracy_score(y_val, lr.predict(X_val))))"
   ]
  },
  {
   "cell_type": "code",
   "execution_count": 16,
   "metadata": {},
   "outputs": [
    {
     "name": "stderr",
     "output_type": "stream",
     "text": [
      "/home/mluser/user_achyuta/mc/venvQA3.6/lib/python3.6/site-packages/sklearn/linear_model/logistic.py:432: FutureWarning: Default solver will be changed to 'lbfgs' in 0.22. Specify a solver to silence this warning.\n",
      "  FutureWarning)\n",
      "/home/mluser/user_achyuta/mc/venvQA3.6/lib/python3.6/site-packages/sklearn/linear_model/logistic.py:459: FutureWarning: Default multi_class will be changed to 'auto' in 0.22. Specify the multi_class option to silence this warning.\n",
      "  \"this warning.\", FutureWarning)\n"
     ]
    },
    {
     "name": "stdout",
     "output_type": "stream",
     "text": [
      "Final Accuracy: 0.7495069033530573\n",
      "[[ 86  64   0]\n",
      " [ 26 292   0]\n",
      " [  7  30   2]]\n",
      "              precision    recall  f1-score   support\n",
      "\n",
      "           0       0.72      0.57      0.64       150\n",
      "           1       0.76      0.92      0.83       318\n",
      "           2       1.00      0.05      0.10        39\n",
      "\n",
      "   micro avg       0.75      0.75      0.75       507\n",
      "   macro avg       0.83      0.51      0.52       507\n",
      "weighted avg       0.77      0.75      0.72       507\n",
      "\n"
     ]
    },
    {
     "data": {
      "image/png": "[encoded data removed]",
      "text/plain": [
       "<Figure size 432x288 with 2 Axes>"
      ]
     },
     "metadata": {
      "needs_background": "light"
     },
     "output_type": "display_data"
    }
   ],
   "source": [
    "final_model = LogisticRegression(C=1)\n",
    "final_model.fit(X_train, y_train)\n",
    "\n",
    "# predict\n",
    "print (\"Final Accuracy: %s\" % accuracy_score(y_test, final_model.predict(X_test)))\n",
    "print(confusion_matrix(y_test,final_model.predict(X_test)))  \n",
    "print(classification_report(y_test,final_model.predict(X_test)))\n",
    "\n",
    "\n",
    "LABELS = ['negative', 'positive' ,'nutral']\n",
    "\n",
    "sns.heatmap(confusion_matrix(y_test,final_model.predict(X_test)), annot=True, xticklabels=LABELS, yticklabels=LABELS, fmt='g')\n",
    "\n",
    "xl = plt.xlabel(\"Predicted\")\n",
    "\n",
    "yl = plt.ylabel(\"Actuals\")"
   ]
  },
  {
   "cell_type": "markdown",
   "metadata": {},
   "source": [
    "# using RandomForest"
   ]
  },
  {
   "cell_type": "code",
   "execution_count": 21,
   "metadata": {},
   "outputs": [
    {
     "data": {
      "text/plain": [
       "RandomForestClassifier(bootstrap=True, class_weight=None, criterion='gini',\n",
       "            max_depth=None, max_features='auto', max_leaf_nodes=None,\n",
       "            min_impurity_decrease=0.0, min_impurity_split=None,\n",
       "            min_samples_leaf=1, min_samples_split=2,\n",
       "            min_weight_fraction_leaf=0.0, n_estimators=200, n_jobs=None,\n",
       "            oob_score=False, random_state=0, verbose=0, warm_start=False)"
      ]
     },
     "execution_count": 21,
     "metadata": {},
     "output_type": "execute_result"
    }
   ],
   "source": [
    "#https://stackabuse.com/python-for-nlp-sentiment-analysis-with-scikit-learn/\n",
    "from sklearn.ensemble import RandomForestClassifier\n",
    "\n",
    "text_classifier = RandomForestClassifier(n_estimators=200, random_state=0)  \n",
    "text_classifier.fit(X_train, y_train)"
   ]
  },
  {
   "cell_type": "code",
   "execution_count": 22,
   "metadata": {},
   "outputs": [
    {
     "name": "stdout",
     "output_type": "stream",
     "text": [
      "[[ 64  79   0]\n",
      " [  6 320   0]\n",
      " [  3  37   0]]\n",
      "              precision    recall  f1-score   support\n",
      "\n",
      "           0       0.88      0.45      0.59       143\n",
      "           1       0.73      0.98      0.84       326\n",
      "           2       0.00      0.00      0.00        40\n",
      "\n",
      "   micro avg       0.75      0.75      0.75       509\n",
      "   macro avg       0.54      0.48      0.48       509\n",
      "weighted avg       0.72      0.75      0.70       509\n",
      "\n",
      "0.7544204322200393\n"
     ]
    },
    {
     "name": "stderr",
     "output_type": "stream",
     "text": [
      "/home/mluser/user_achyuta/mc/venvQA3.6/lib/python3.6/site-packages/sklearn/metrics/classification.py:1143: UndefinedMetricWarning: Precision and F-score are ill-defined and being set to 0.0 in labels with no predicted samples.\n",
      "  'precision', 'predicted', average, warn_for)\n"
     ]
    },
    {
     "data": {
      "image/png": "[encoded data removed]",
      "text/plain": [
       "<Figure size 432x288 with 2 Axes>"
      ]
     },
     "metadata": {
      "needs_background": "light"
     },
     "output_type": "display_data"
    }
   ],
   "source": [
    "predictions = text_classifier.predict(X_test)\n",
    "\n",
    "print(confusion_matrix(y_test,predictions))  \n",
    "print(classification_report(y_test,predictions))  \n",
    "print(accuracy_score(y_test, predictions))\n",
    "\n",
    "LABELS = ['negative', 'positive' ,'nutral']\n",
    "\n",
    "sns.heatmap(confusion_matrix(y_test,predictions), annot=True, xticklabels=LABELS, yticklabels=LABELS, fmt='g')\n",
    "\n",
    "xl = plt.xlabel(\"Predicted\")\n",
    "\n",
    "yl = plt.ylabel(\"Actuals\")"
   ]
  },
  {
   "cell_type": "markdown",
   "metadata": {},
   "source": [
    "# using SVM"
   ]
  },
  {
   "cell_type": "code",
   "execution_count": 7,
   "metadata": {},
   "outputs": [
    {
     "name": "stderr",
     "output_type": "stream",
     "text": [
      "/home/mluser/user_achyuta/mc/venvQA3.6/lib/python3.6/site-packages/sklearn/svm/base.py:196: FutureWarning: The default value of gamma will change from 'auto' to 'scale' in version 0.22 to account better for unscaled features. Set gamma explicitly to 'auto' or 'scale' to avoid this warning.\n",
      "  \"avoid this warning.\", FutureWarning)\n"
     ]
    },
    {
     "data": {
      "text/plain": [
       "SVC(C=1.0, cache_size=200, class_weight=None, coef0=0.0,\n",
       "  decision_function_shape='ovr', degree=3, gamma='auto_deprecated',\n",
       "  kernel='rbf', max_iter=-1, probability=True, random_state=None,\n",
       "  shrinking=True, tol=0.001, verbose=False)"
      ]
     },
     "execution_count": 7,
     "metadata": {},
     "output_type": "execute_result"
    }
   ],
   "source": [
    "from sklearn.svm import SVC  \n",
    "#clf=svm.SVC(probability=True)\n",
    "svclassifier = SVC(kernel='rbf',degree=3, probability=True)  #svclassifier = SVC(kernel='poly', degree=8) # 'rbf' , 'sigmoid'\n",
    "svclassifier.fit(X_train, y_train)"
   ]
  },
  {
   "cell_type": "code",
   "execution_count": 9,
   "metadata": {},
   "outputs": [
    {
     "name": "stderr",
     "output_type": "stream",
     "text": [
      "/home/mluser/user_achyuta/mc/venvQA3.6/lib/python3.6/site-packages/sklearn/model_selection/_split.py:1943: FutureWarning: You should specify a value for 'cv' instead of relying on the default value. The default value will change from 3 to 5 in version 0.22.\n",
      "  warnings.warn(CV_WARNING, FutureWarning)\n",
      "/home/mluser/user_achyuta/mc/venvQA3.6/lib/python3.6/site-packages/sklearn/svm/base.py:196: FutureWarning: The default value of gamma will change from 'auto' to 'scale' in version 0.22 to account better for unscaled features. Set gamma explicitly to 'auto' or 'scale' to avoid this warning.\n",
      "  \"avoid this warning.\", FutureWarning)\n",
      "/home/mluser/user_achyuta/mc/venvQA3.6/lib/python3.6/site-packages/sklearn/svm/base.py:196: FutureWarning: The default value of gamma will change from 'auto' to 'scale' in version 0.22 to account better for unscaled features. Set gamma explicitly to 'auto' or 'scale' to avoid this warning.\n",
      "  \"avoid this warning.\", FutureWarning)\n",
      "/home/mluser/user_achyuta/mc/venvQA3.6/lib/python3.6/site-packages/sklearn/svm/base.py:196: FutureWarning: The default value of gamma will change from 'auto' to 'scale' in version 0.22 to account better for unscaled features. Set gamma explicitly to 'auto' or 'scale' to avoid this warning.\n",
      "  \"avoid this warning.\", FutureWarning)\n"
     ]
    },
    {
     "data": {
      "text/plain": [
       "CalibratedClassifierCV(base_estimator=SVC(C=1.0, cache_size=200, class_weight=None, coef0=0.0,\n",
       "  decision_function_shape='ovr', degree=3, gamma='auto', kernel='rbf',\n",
       "  max_iter=-1, probability=False, random_state=None, shrinking=True,\n",
       "  tol=0.001, verbose=False),\n",
       "            cv=3, method='sigmoid')"
      ]
     },
     "execution_count": 9,
     "metadata": {},
     "output_type": "execute_result"
    }
   ],
   "source": [
    "from sklearn.calibration import CalibratedClassifierCV\n",
    "#svm = SVC()\n",
    "svclassifier = CalibratedClassifierCV(svclassifier)\n",
    "svclassifier.fit(X_train, y_train)\n",
    "CalibratedClassifierCV(base_estimator=SVC(C=1.0, cache_size=200, class_weight=None, coef0=0.0,decision_function_shape='ovr', degree=3, gamma='auto', kernel='rbf',max_iter=-1, probability=False, random_state=None, shrinking=True,tol=0.001, verbose=False),cv=3, method='sigmoid')\n",
    "#svclassifier.predict_proba(X_test)"
   ]
  },
  {
   "cell_type": "code",
   "execution_count": 10,
   "metadata": {},
   "outputs": [
    {
     "name": "stdout",
     "output_type": "stream",
     "text": [
      "[[ 90  60   0]\n",
      " [ 19 299   0]\n",
      " [  7  32   0]]\n",
      "              precision    recall  f1-score   support\n",
      "\n",
      "           0       0.78      0.60      0.68       150\n",
      "           1       0.76      0.94      0.84       318\n",
      "           2       0.00      0.00      0.00        39\n",
      "\n",
      "   micro avg       0.77      0.77      0.77       507\n",
      "   macro avg       0.51      0.51      0.51       507\n",
      "weighted avg       0.71      0.77      0.73       507\n",
      "\n",
      "0.7672583826429981\n"
     ]
    },
    {
     "name": "stderr",
     "output_type": "stream",
     "text": [
      "/home/mluser/user_achyuta/mc/venvQA3.6/lib/python3.6/site-packages/sklearn/metrics/classification.py:1143: UndefinedMetricWarning: Precision and F-score are ill-defined and being set to 0.0 in labels with no predicted samples.\n",
      "  'precision', 'predicted', average, warn_for)\n"
     ]
    },
    {
     "data": {
      "image/png": "[encoded data removed]",
      "text/plain": [
       "<Figure size 432x288 with 2 Axes>"
      ]
     },
     "metadata": {
      "needs_background": "light"
     },
     "output_type": "display_data"
    }
   ],
   "source": [
    "y_pred = svclassifier.predict(X_test)\n",
    " \n",
    "print(confusion_matrix(y_test,y_pred))  \n",
    "print(classification_report(y_test,y_pred))\n",
    "print(accuracy_score(y_test, y_pred))\n",
    "\n",
    "LABELS = ['negative', 'positive' ,'nutral']\n",
    "\n",
    "sns.heatmap(confusion_matrix(y_test,y_pred), annot=True, xticklabels=LABELS, yticklabels=LABELS, fmt='g')\n",
    "\n",
    "xl = plt.xlabel(\"Predicted\")\n",
    "\n",
    "yl = plt.ylabel(\"Actuals\")"
   ]
  },
  {
   "cell_type": "markdown",
   "metadata": {},
   "source": [
    "# using Gaussian naive bayes"
   ]
  },
  {
   "cell_type": "code",
   "execution_count": 12,
   "metadata": {},
   "outputs": [
    {
     "data": {
      "text/plain": [
       "GaussianNB(priors=None, var_smoothing=1e-09)"
      ]
     },
     "execution_count": 12,
     "metadata": {},
     "output_type": "execute_result"
    }
   ],
   "source": [
    "from sklearn.naive_bayes import GaussianNB\n",
    "\n",
    "clf = GaussianNB()\n",
    "clf.fit(X_train, y_train)\n"
   ]
  },
  {
   "cell_type": "code",
   "execution_count": 13,
   "metadata": {},
   "outputs": [
    {
     "name": "stdout",
     "output_type": "stream",
     "text": [
      "[[ 89  31  23]\n",
      " [ 97 151  78]\n",
      " [ 16  11  13]]\n",
      "              precision    recall  f1-score   support\n",
      "\n",
      "           0       0.44      0.62      0.52       143\n",
      "           1       0.78      0.46      0.58       326\n",
      "           2       0.11      0.33      0.17        40\n",
      "\n",
      "   micro avg       0.50      0.50      0.50       509\n",
      "   macro avg       0.45      0.47      0.42       509\n",
      "weighted avg       0.63      0.50      0.53       509\n",
      "\n",
      "0.49705304518664045\n"
     ]
    }
   ],
   "source": [
    "y_pred = clf.predict(X_test)\n",
    "\n",
    "print(confusion_matrix(y_test,y_pred))  \n",
    "print(classification_report(y_test,y_pred))\n",
    "print(accuracy_score(y_test, y_pred))"
   ]
  },
  {
   "cell_type": "code",
   "execution_count": 11,
   "metadata": {},
   "outputs": [
    {
     "name": "stderr",
     "output_type": "stream",
     "text": [
      "/home/mluser/user_achyuta/mc/venvQA3.6/lib/python3.6/site-packages/sklearn/model_selection/_split.py:1943: FutureWarning: You should specify a value for 'cv' instead of relying on the default value. The default value will change from 3 to 5 in version 0.22.\n",
      "  warnings.warn(CV_WARNING, FutureWarning)\n",
      "/home/mluser/user_achyuta/mc/venvQA3.6/lib/python3.6/site-packages/sklearn/svm/base.py:196: FutureWarning: The default value of gamma will change from 'auto' to 'scale' in version 0.22 to account better for unscaled features. Set gamma explicitly to 'auto' or 'scale' to avoid this warning.\n",
      "  \"avoid this warning.\", FutureWarning)\n",
      "/home/mluser/user_achyuta/mc/venvQA3.6/lib/python3.6/site-packages/sklearn/svm/base.py:196: FutureWarning: The default value of gamma will change from 'auto' to 'scale' in version 0.22 to account better for unscaled features. Set gamma explicitly to 'auto' or 'scale' to avoid this warning.\n",
      "  \"avoid this warning.\", FutureWarning)\n",
      "/home/mluser/user_achyuta/mc/venvQA3.6/lib/python3.6/site-packages/sklearn/svm/base.py:196: FutureWarning: The default value of gamma will change from 'auto' to 'scale' in version 0.22 to account better for unscaled features. Set gamma explicitly to 'auto' or 'scale' to avoid this warning.\n",
      "  \"avoid this warning.\", FutureWarning)\n",
      "/home/mluser/user_achyuta/mc/venvQA3.6/lib/python3.6/site-packages/sklearn/model_selection/_split.py:1943: FutureWarning: You should specify a value for 'cv' instead of relying on the default value. The default value will change from 3 to 5 in version 0.22.\n",
      "  warnings.warn(CV_WARNING, FutureWarning)\n",
      "/home/mluser/user_achyuta/mc/venvQA3.6/lib/python3.6/site-packages/sklearn/svm/base.py:196: FutureWarning: The default value of gamma will change from 'auto' to 'scale' in version 0.22 to account better for unscaled features. Set gamma explicitly to 'auto' or 'scale' to avoid this warning.\n",
      "  \"avoid this warning.\", FutureWarning)\n",
      "/home/mluser/user_achyuta/mc/venvQA3.6/lib/python3.6/site-packages/sklearn/svm/base.py:196: FutureWarning: The default value of gamma will change from 'auto' to 'scale' in version 0.22 to account better for unscaled features. Set gamma explicitly to 'auto' or 'scale' to avoid this warning.\n",
      "  \"avoid this warning.\", FutureWarning)\n",
      "/home/mluser/user_achyuta/mc/venvQA3.6/lib/python3.6/site-packages/sklearn/svm/base.py:196: FutureWarning: The default value of gamma will change from 'auto' to 'scale' in version 0.22 to account better for unscaled features. Set gamma explicitly to 'auto' or 'scale' to avoid this warning.\n",
      "  \"avoid this warning.\", FutureWarning)\n"
     ]
    },
    {
     "name": "stdout",
     "output_type": "stream",
     "text": [
      "===isotonic==\n",
      "[[ 99  51   0]\n",
      " [ 29 289   0]\n",
      " [  7  32   0]]\n",
      "              precision    recall  f1-score   support\n",
      "\n",
      "           0       0.73      0.66      0.69       150\n",
      "           1       0.78      0.91      0.84       318\n",
      "           2       0.00      0.00      0.00        39\n",
      "\n",
      "   micro avg       0.77      0.77      0.77       507\n",
      "   macro avg       0.50      0.52      0.51       507\n",
      "weighted avg       0.70      0.77      0.73       507\n",
      "\n",
      "0.7652859960552268\n"
     ]
    },
    {
     "name": "stderr",
     "output_type": "stream",
     "text": [
      "/home/mluser/user_achyuta/mc/venvQA3.6/lib/python3.6/site-packages/sklearn/metrics/classification.py:1143: UndefinedMetricWarning: Precision and F-score are ill-defined and being set to 0.0 in labels with no predicted samples.\n",
      "  'precision', 'predicted', average, warn_for)\n",
      "/home/mluser/user_achyuta/mc/venvQA3.6/lib/python3.6/site-packages/sklearn/model_selection/_split.py:1943: FutureWarning: You should specify a value for 'cv' instead of relying on the default value. The default value will change from 3 to 5 in version 0.22.\n",
      "  warnings.warn(CV_WARNING, FutureWarning)\n",
      "/home/mluser/user_achyuta/mc/venvQA3.6/lib/python3.6/site-packages/sklearn/svm/base.py:196: FutureWarning: The default value of gamma will change from 'auto' to 'scale' in version 0.22 to account better for unscaled features. Set gamma explicitly to 'auto' or 'scale' to avoid this warning.\n",
      "  \"avoid this warning.\", FutureWarning)\n",
      "/home/mluser/user_achyuta/mc/venvQA3.6/lib/python3.6/site-packages/sklearn/svm/base.py:196: FutureWarning: The default value of gamma will change from 'auto' to 'scale' in version 0.22 to account better for unscaled features. Set gamma explicitly to 'auto' or 'scale' to avoid this warning.\n",
      "  \"avoid this warning.\", FutureWarning)\n",
      "/home/mluser/user_achyuta/mc/venvQA3.6/lib/python3.6/site-packages/sklearn/svm/base.py:196: FutureWarning: The default value of gamma will change from 'auto' to 'scale' in version 0.22 to account better for unscaled features. Set gamma explicitly to 'auto' or 'scale' to avoid this warning.\n",
      "  \"avoid this warning.\", FutureWarning)\n",
      "/home/mluser/user_achyuta/mc/venvQA3.6/lib/python3.6/site-packages/sklearn/model_selection/_split.py:1943: FutureWarning: You should specify a value for 'cv' instead of relying on the default value. The default value will change from 3 to 5 in version 0.22.\n",
      "  warnings.warn(CV_WARNING, FutureWarning)\n",
      "/home/mluser/user_achyuta/mc/venvQA3.6/lib/python3.6/site-packages/sklearn/svm/base.py:196: FutureWarning: The default value of gamma will change from 'auto' to 'scale' in version 0.22 to account better for unscaled features. Set gamma explicitly to 'auto' or 'scale' to avoid this warning.\n",
      "  \"avoid this warning.\", FutureWarning)\n",
      "/home/mluser/user_achyuta/mc/venvQA3.6/lib/python3.6/site-packages/sklearn/svm/base.py:196: FutureWarning: The default value of gamma will change from 'auto' to 'scale' in version 0.22 to account better for unscaled features. Set gamma explicitly to 'auto' or 'scale' to avoid this warning.\n",
      "  \"avoid this warning.\", FutureWarning)\n",
      "/home/mluser/user_achyuta/mc/venvQA3.6/lib/python3.6/site-packages/sklearn/svm/base.py:196: FutureWarning: The default value of gamma will change from 'auto' to 'scale' in version 0.22 to account better for unscaled features. Set gamma explicitly to 'auto' or 'scale' to avoid this warning.\n",
      "  \"avoid this warning.\", FutureWarning)\n"
     ]
    },
    {
     "name": "stdout",
     "output_type": "stream",
     "text": [
      "\n",
      "====sigmoid====\n",
      "[[ 77  73   0]\n",
      " [ 19 299   0]\n",
      " [  6  33   0]]\n",
      "              precision    recall  f1-score   support\n",
      "\n",
      "           0       0.75      0.51      0.61       150\n",
      "           1       0.74      0.94      0.83       318\n",
      "           2       0.00      0.00      0.00        39\n",
      "\n",
      "   micro avg       0.74      0.74      0.74       507\n",
      "   macro avg       0.50      0.48      0.48       507\n",
      "weighted avg       0.69      0.74      0.70       507\n",
      "\n",
      "0.7416173570019724\n"
     ]
    },
    {
     "name": "stderr",
     "output_type": "stream",
     "text": [
      "/home/mluser/user_achyuta/mc/venvQA3.6/lib/python3.6/site-packages/sklearn/metrics/classification.py:1143: UndefinedMetricWarning: Precision and F-score are ill-defined and being set to 0.0 in labels with no predicted samples.\n",
      "  'precision', 'predicted', average, warn_for)\n"
     ]
    }
   ],
   "source": [
    "from sklearn.calibration import CalibratedClassifierCV\n",
    "\n",
    "# Gaussian Naive-Bayes with isotonic calibration\n",
    "clf_isotonic = CalibratedClassifierCV(svclassifier, cv=2, method='isotonic')\n",
    "clf_isotonic.fit(X_train, y_train)\n",
    "#prob_pos_isotonic = clf_isotonic.predict_proba(X_test)[:, 1]\n",
    "\n",
    "print(\"===isotonic==\")\n",
    "y_pred = clf_isotonic.predict(X_test)\n",
    "print(confusion_matrix(y_test,y_pred))\n",
    "print(classification_report(y_test,y_pred))\n",
    "print(accuracy_score(y_test, y_pred))\n",
    "\n",
    "# Gaussian Naive-Bayes with sigmoid calibration\n",
    "clf_sigmoid = CalibratedClassifierCV(svclassifier, cv=2, method='sigmoid')\n",
    "clf_sigmoid.fit(X_train, y_train)\n",
    "#prob_pos_sigmoid = clf_sigmoid.predict_proba(X_test)[:, 1]\n",
    "\n",
    "print(\"\\n====sigmoid====\")\n",
    "y_pred = clf_sigmoid.predict(X_test)\n",
    "print(confusion_matrix(y_test,y_pred))\n",
    "print(classification_report(y_test,y_pred))\n",
    "print(accuracy_score(y_test, y_pred))"
   ]
  },
  {
   "cell_type": "code",
   "execution_count": 2,
   "metadata": {},
   "outputs": [],
   "source": [
    "# save the model to disk\n",
    "import pickle\n",
    "\n",
    "filename = 'model/sentiment_model_using_glove_minmax_svm.sav'\n",
    "#pickle.dump(svclassifier, open(filename, 'wb'))\n",
    "#pickle.dump(final_model, open(filename, 'wb'))"
   ]
  },
  {
   "cell_type": "code",
   "execution_count": 14,
   "metadata": {},
   "outputs": [
    {
     "name": "stdout",
     "output_type": "stream",
     "text": [
      "[0.1310375 0.8085576 0.0604049]\n"
     ]
    }
   ],
   "source": [
    "filename = 'model/sentiment_model_using_glove_minmax_svm.sav'\n",
    "clf_pred = pickle.load(open(filename, 'rb'))\n",
    "LABELS = ['negative', 'positive' ,'nutral']\n",
    "\n",
    "def predict(clf_pred, sent):\n",
    "    test = [min_max(sent)]\n",
    "    y_pred = clf_pred.predict_proba(test)\n",
    "    return y_pred\n",
    "\n",
    "output = predict(clf_pred, \"once in a while i drink a full bottle before workout. i've been drinking guyaki yerba mate teas for years.\")\n",
    "print(output[0])"
   ]
  },
  {
   "cell_type": "code",
   "execution_count": 1,
   "metadata": {},
   "outputs": [
    {
     "ename": "NameError",
     "evalue": "name 'result_test' is not defined",
     "output_type": "error",
     "traceback": [
      "\u001b[0;31m---------------------------------------------------------------------------\u001b[0m",
      "\u001b[0;31mNameError\u001b[0m                                 Traceback (most recent call last)",
      "\u001b[0;32m<ipython-input-1-a4cfbe5cd7d7>\u001b[0m in \u001b[0;36m<module>\u001b[0;34m\u001b[0m\n\u001b[0;32m----> 1\u001b[0;31m \u001b[0mresult_test\u001b[0m\u001b[0;34m.\u001b[0m\u001b[0mhead\u001b[0m\u001b[0;34m(\u001b[0m\u001b[0;34m)\u001b[0m\u001b[0;34m\u001b[0m\u001b[0m\n\u001b[0m",
      "\u001b[0;31mNameError\u001b[0m: name 'result_test' is not defined"
     ]
    }
   ],
   "source": [
    "result_test.head()"
   ]
  },
  {
   "cell_type": "code",
   "execution_count": null,
   "metadata": {},
   "outputs": [],
   "source": []
  }
 ],
 "metadata": {
  "kernelspec": {
   "display_name": "Python 3",
   "language": "python",
   "name": "python3"
  },
  "language_info": {
   "codemirror_mode": {
    "name": "ipython",
    "version": 3
   },
   "file_extension": ".py",
   "mimetype": "text/x-python",
   "name": "python",
   "nbconvert_exporter": "python",
   "pygments_lexer": "ipython3",
   "version": "3.6.6"
  }
 },
 "nbformat": 4,
 "nbformat_minor": 2
}
